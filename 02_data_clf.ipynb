{
 "cells": [
  {
   "cell_type": "markdown",
   "metadata": {},
   "source": [
    "# ML"
   ]
  },
  {
   "cell_type": "markdown",
   "metadata": {},
   "source": [
    "A computer program is said to learn from experience E \n",
    "with respect to some class of tasks T \n",
    "and performance measure P \n",
    "if its performance at tasks in T, as measured by P, improves with experience E."
   ]
  },
  {
   "cell_type": "markdown",
   "metadata": {},
   "source": [
    "# Working with data"
   ]
  },
  {
   "cell_type": "code",
   "execution_count": 1,
   "metadata": {},
   "outputs": [
    {
     "name": "stdout",
     "output_type": "stream",
     "text": [
      "Populating the interactive namespace from numpy and matplotlib\n"
     ]
    }
   ],
   "source": [
    "%pylab inline"
   ]
  },
  {
   "cell_type": "code",
   "execution_count": 2,
   "metadata": {},
   "outputs": [],
   "source": [
    "import pandas as pd\n",
    "import matplotlib.pyplot as plt\n",
    "from sklearn.feature_extraction.text import TfidfVectorizer\n"
   ]
  },
  {
   "cell_type": "markdown",
   "metadata": {},
   "source": [
    "# Load Data"
   ]
  },
  {
   "cell_type": "code",
   "execution_count": 3,
   "metadata": {},
   "outputs": [],
   "source": [
    "#df = pd.read_csv('dataset/20_newgroups.csv')\n",
    "df = pd.read_excel('dataset/20_newgroups.xlsx')\n",
    "\n",
    "# this is a quick fixup for illegal characters\n",
    "df = df.applymap(lambda x: bytes(x, \"utf-8\").decode(\"unicode_escape\") if isinstance(x, str) else x)"
   ]
  },
  {
   "cell_type": "markdown",
   "metadata": {},
   "source": [
    "# Inspect and Explore Data"
   ]
  },
  {
   "cell_type": "code",
   "execution_count": 4,
   "metadata": {},
   "outputs": [
    {
     "data": {
      "text/html": [
       "<div>\n",
       "<style scoped>\n",
       "    .dataframe tbody tr th:only-of-type {\n",
       "        vertical-align: middle;\n",
       "    }\n",
       "\n",
       "    .dataframe tbody tr th {\n",
       "        vertical-align: top;\n",
       "    }\n",
       "\n",
       "    .dataframe thead th {\n",
       "        text-align: right;\n",
       "    }\n",
       "</style>\n",
       "<table border=\"1\" class=\"dataframe\">\n",
       "  <thead>\n",
       "    <tr style=\"text-align: right;\">\n",
       "      <th></th>\n",
       "      <th>content</th>\n",
       "      <th>target</th>\n",
       "    </tr>\n",
       "  </thead>\n",
       "  <tbody>\n",
       "    <tr>\n",
       "      <th>0</th>\n",
       "      <td>From: lerxst@wam.umd.edu (where's my thing)\\nS...</td>\n",
       "      <td>rec.autos</td>\n",
       "    </tr>\n",
       "    <tr>\n",
       "      <th>1</th>\n",
       "      <td>From: guykuo@carson.u.washington.edu (Guy Kuo)...</td>\n",
       "      <td>comp.sys.mac.hardware</td>\n",
       "    </tr>\n",
       "    <tr>\n",
       "      <th>2</th>\n",
       "      <td>From: twillis@ec.ecn.purdue.edu (Thomas E Will...</td>\n",
       "      <td>comp.sys.mac.hardware</td>\n",
       "    </tr>\n",
       "    <tr>\n",
       "      <th>3</th>\n",
       "      <td>From: jgreen@amber (Joe Green)\\nSubject: Re: W...</td>\n",
       "      <td>comp.graphics</td>\n",
       "    </tr>\n",
       "    <tr>\n",
       "      <th>4</th>\n",
       "      <td>From: jcm@head-cfa.harvard.edu (Jonathan McDow...</td>\n",
       "      <td>sci.space</td>\n",
       "    </tr>\n",
       "  </tbody>\n",
       "</table>\n",
       "</div>"
      ],
      "text/plain": [
       "                                             content                 target\n",
       "0  From: lerxst@wam.umd.edu (where's my thing)\\nS...              rec.autos\n",
       "1  From: guykuo@carson.u.washington.edu (Guy Kuo)...  comp.sys.mac.hardware\n",
       "2  From: twillis@ec.ecn.purdue.edu (Thomas E Will...  comp.sys.mac.hardware\n",
       "3  From: jgreen@amber (Joe Green)\\nSubject: Re: W...          comp.graphics\n",
       "4  From: jcm@head-cfa.harvard.edu (Jonathan McDow...              sci.space"
      ]
     },
     "execution_count": 4,
     "metadata": {},
     "output_type": "execute_result"
    }
   ],
   "source": [
    "df.head()"
   ]
  },
  {
   "cell_type": "code",
   "execution_count": 5,
   "metadata": {},
   "outputs": [
    {
     "data": {
      "text/html": [
       "<div>\n",
       "<style scoped>\n",
       "    .dataframe tbody tr th:only-of-type {\n",
       "        vertical-align: middle;\n",
       "    }\n",
       "\n",
       "    .dataframe tbody tr th {\n",
       "        vertical-align: top;\n",
       "    }\n",
       "\n",
       "    .dataframe thead th {\n",
       "        text-align: right;\n",
       "    }\n",
       "</style>\n",
       "<table border=\"1\" class=\"dataframe\">\n",
       "  <thead>\n",
       "    <tr style=\"text-align: right;\">\n",
       "      <th></th>\n",
       "      <th>content</th>\n",
       "      <th>target</th>\n",
       "    </tr>\n",
       "  </thead>\n",
       "  <tbody>\n",
       "    <tr>\n",
       "      <th>0</th>\n",
       "      <td>From: lerxst@wam.umd.edu (where's my thing)\\nS...</td>\n",
       "      <td>rec.autos</td>\n",
       "    </tr>\n",
       "    <tr>\n",
       "      <th>1</th>\n",
       "      <td>From: guykuo@carson.u.washington.edu (Guy Kuo)...</td>\n",
       "      <td>comp.sys.mac.hardware</td>\n",
       "    </tr>\n",
       "    <tr>\n",
       "      <th>2</th>\n",
       "      <td>From: twillis@ec.ecn.purdue.edu (Thomas E Will...</td>\n",
       "      <td>comp.sys.mac.hardware</td>\n",
       "    </tr>\n",
       "    <tr>\n",
       "      <th>3</th>\n",
       "      <td>From: jgreen@amber (Joe Green)\\nSubject: Re: W...</td>\n",
       "      <td>comp.graphics</td>\n",
       "    </tr>\n",
       "    <tr>\n",
       "      <th>4</th>\n",
       "      <td>From: jcm@head-cfa.harvard.edu (Jonathan McDow...</td>\n",
       "      <td>sci.space</td>\n",
       "    </tr>\n",
       "    <tr>\n",
       "      <th>5</th>\n",
       "      <td>From: dfo@vttoulu.tko.vtt.fi (Foxvog Douglas)\\...</td>\n",
       "      <td>talk.politics.guns</td>\n",
       "    </tr>\n",
       "    <tr>\n",
       "      <th>6</th>\n",
       "      <td>From: bmdelane@quads.uchicago.edu (brian manni...</td>\n",
       "      <td>sci.med</td>\n",
       "    </tr>\n",
       "    <tr>\n",
       "      <th>7</th>\n",
       "      <td>From: bgrubb@dante.nmsu.edu (GRUBB)\\nSubject: ...</td>\n",
       "      <td>comp.sys.ibm.pc.hardware</td>\n",
       "    </tr>\n",
       "    <tr>\n",
       "      <th>8</th>\n",
       "      <td>From: holmes7000@iscsvax.uni.edu\\nSubject: WIn...</td>\n",
       "      <td>comp.os.ms-windows.misc</td>\n",
       "    </tr>\n",
       "    <tr>\n",
       "      <th>9</th>\n",
       "      <td>From: kerr@ux1.cso.uiuc.edu (Stan Kerr)\\nSubje...</td>\n",
       "      <td>comp.sys.mac.hardware</td>\n",
       "    </tr>\n",
       "  </tbody>\n",
       "</table>\n",
       "</div>"
      ],
      "text/plain": [
       "                                             content                    target\n",
       "0  From: lerxst@wam.umd.edu (where's my thing)\\nS...                 rec.autos\n",
       "1  From: guykuo@carson.u.washington.edu (Guy Kuo)...     comp.sys.mac.hardware\n",
       "2  From: twillis@ec.ecn.purdue.edu (Thomas E Will...     comp.sys.mac.hardware\n",
       "3  From: jgreen@amber (Joe Green)\\nSubject: Re: W...             comp.graphics\n",
       "4  From: jcm@head-cfa.harvard.edu (Jonathan McDow...                 sci.space\n",
       "5  From: dfo@vttoulu.tko.vtt.fi (Foxvog Douglas)\\...        talk.politics.guns\n",
       "6  From: bmdelane@quads.uchicago.edu (brian manni...                   sci.med\n",
       "7  From: bgrubb@dante.nmsu.edu (GRUBB)\\nSubject: ...  comp.sys.ibm.pc.hardware\n",
       "8  From: holmes7000@iscsvax.uni.edu\\nSubject: WIn...   comp.os.ms-windows.misc\n",
       "9  From: kerr@ux1.cso.uiuc.edu (Stan Kerr)\\nSubje...     comp.sys.mac.hardware"
      ]
     },
     "execution_count": 5,
     "metadata": {},
     "output_type": "execute_result"
    }
   ],
   "source": [
    "df.head(10)"
   ]
  },
  {
   "cell_type": "code",
   "execution_count": 6,
   "metadata": {},
   "outputs": [
    {
     "data": {
      "text/plain": [
       "(11314, 2)"
      ]
     },
     "execution_count": 6,
     "metadata": {},
     "output_type": "execute_result"
    }
   ],
   "source": [
    "df.shape"
   ]
  },
  {
   "cell_type": "code",
   "execution_count": 7,
   "metadata": {},
   "outputs": [
    {
     "data": {
      "text/plain": [
       "Index(['content', 'target'], dtype='object')"
      ]
     },
     "execution_count": 7,
     "metadata": {},
     "output_type": "execute_result"
    }
   ],
   "source": [
    "df.columns"
   ]
  },
  {
   "cell_type": "code",
   "execution_count": 8,
   "metadata": {},
   "outputs": [
    {
     "data": {
      "text/plain": [
       "content    From: irwin@cmptrc.lonestar.org (Irwin Arnstei...\n",
       "target                                       rec.motorcycles\n",
       "Name: 10, dtype: object"
      ]
     },
     "execution_count": 8,
     "metadata": {},
     "output_type": "execute_result"
    }
   ],
   "source": [
    "df.iloc[10]"
   ]
  },
  {
   "cell_type": "code",
   "execution_count": 9,
   "metadata": {},
   "outputs": [
    {
     "data": {
      "text/plain": [
       "'From: irwin@cmptrc.lonestar.org (Irwin Arnstein)\\nSubject: Re: Recommendation on Duc\\nSummary: What\\'s it worth?\\nDistribution: usa\\nExpires: Sat, 1 May 1993 05:00:00 GMT\\nOrganization: CompuTrac Inc., Richardson TX\\nKeywords: Ducati, GTS, How much? \\nLines: 13\\n\\nI have a line on a Ducati 900GTS 1978 model with 17k on the clock.  Runs\\nvery well, paint is the bronze/brown/orange faded out, leaks a bit of oil\\nand pops out of 1st with hard accel.  The shop will fix trans and oil \\nleak.  They sold the bike to the 1 and only owner.  They want $3495, and\\nI am thinking more like $3K.  Any opinions out there?  Please email me.\\nThanks.  It would be a nice stable mate to the Beemer.  Then I\\'ll get\\na jap bike and call myself Axis Motors!\\n\\n-- \\n-----------------------------------------------------------------------\\n\"Tuba\" (Irwin)      \"I honk therefore I am\"     CompuTrac-Richardson,Tx\\nirwin@cmptrc.lonestar.org    DoD #0826          (R75/6)\\n-----------------------------------------------------------------------\\n'"
      ]
     },
     "execution_count": 9,
     "metadata": {},
     "output_type": "execute_result"
    }
   ],
   "source": [
    "df.content.iloc[10]"
   ]
  },
  {
   "cell_type": "code",
   "execution_count": 10,
   "metadata": {},
   "outputs": [
    {
     "name": "stdout",
     "output_type": "stream",
     "text": [
      "From: irwin@cmptrc.lonestar.org (Irwin Arnstein)\n",
      "Subject: Re: Recommendation on Duc\n",
      "Summary: What's it worth?\n",
      "Distribution: usa\n",
      "Expires: Sat, 1 May 1993 05:00:00 GMT\n",
      "Organization: CompuTrac Inc., Richardson TX\n",
      "Keywords: Ducati, GTS, How much? \n",
      "Lines: 13\n",
      "\n",
      "I have a line on a Ducati 900GTS 1978 model with 17k on the clock.  Runs\n",
      "very well, paint is the bronze/brown/orange faded out, leaks a bit of oil\n",
      "and pops out of 1st with hard accel.  The shop will fix trans and oil \n",
      "leak.  They sold the bike to the 1 and only owner.  They want $3495, and\n",
      "I am thinking more like $3K.  Any opinions out there?  Please email me.\n",
      "Thanks.  It would be a nice stable mate to the Beemer.  Then I'll get\n",
      "a jap bike and call myself Axis Motors!\n",
      "\n",
      "-- \n",
      "-----------------------------------------------------------------------\n",
      "\"Tuba\" (Irwin)      \"I honk therefore I am\"     CompuTrac-Richardson,Tx\n",
      "irwin@cmptrc.lonestar.org    DoD #0826          (R75/6)\n",
      "-----------------------------------------------------------------------\n",
      "\n"
     ]
    }
   ],
   "source": [
    "print(df.content.iloc[10])"
   ]
  },
  {
   "cell_type": "code",
   "execution_count": 11,
   "metadata": {},
   "outputs": [
    {
     "data": {
      "text/html": [
       "<div>\n",
       "<style scoped>\n",
       "    .dataframe tbody tr th:only-of-type {\n",
       "        vertical-align: middle;\n",
       "    }\n",
       "\n",
       "    .dataframe tbody tr th {\n",
       "        vertical-align: top;\n",
       "    }\n",
       "\n",
       "    .dataframe thead th {\n",
       "        text-align: right;\n",
       "    }\n",
       "</style>\n",
       "<table border=\"1\" class=\"dataframe\">\n",
       "  <thead>\n",
       "    <tr style=\"text-align: right;\">\n",
       "      <th></th>\n",
       "      <th>content</th>\n",
       "      <th>target</th>\n",
       "    </tr>\n",
       "  </thead>\n",
       "  <tbody>\n",
       "    <tr>\n",
       "      <th>100</th>\n",
       "      <td>From: tchen@magnus.acs.ohio-state.edu (Tsung-K...</td>\n",
       "      <td>misc.forsale</td>\n",
       "    </tr>\n",
       "    <tr>\n",
       "      <th>101</th>\n",
       "      <td>From: exuptr@exu.ericsson.se (Patrick Taylor, ...</td>\n",
       "      <td>sci.electronics</td>\n",
       "    </tr>\n",
       "    <tr>\n",
       "      <th>102</th>\n",
       "      <td>From: gharriso@hpcc01.corp.hp.com (Graeme Harr...</td>\n",
       "      <td>rec.motorcycles</td>\n",
       "    </tr>\n",
       "    <tr>\n",
       "      <th>103</th>\n",
       "      <td>From: horton@molbio.cbs.umn.edu (Robert Horton...</td>\n",
       "      <td>comp.sys.mac.hardware</td>\n",
       "    </tr>\n",
       "    <tr>\n",
       "      <th>104</th>\n",
       "      <td>From: bc744@cleveland.Freenet.Edu (Mark Ira Ka...</td>\n",
       "      <td>talk.politics.mideast</td>\n",
       "    </tr>\n",
       "    <tr>\n",
       "      <th>105</th>\n",
       "      <td>From: dtmedin@catbyte.b30.ingr.com (Dave Medin...</td>\n",
       "      <td>sci.electronics</td>\n",
       "    </tr>\n",
       "    <tr>\n",
       "      <th>106</th>\n",
       "      <td>From: ravin@eecg.toronto.edu (Govindan Ravindr...</td>\n",
       "      <td>sci.electronics</td>\n",
       "    </tr>\n",
       "    <tr>\n",
       "      <th>107</th>\n",
       "      <td>From: bell@hops.larc.nasa.gov (John Bell)\\nSub...</td>\n",
       "      <td>sci.electronics</td>\n",
       "    </tr>\n",
       "    <tr>\n",
       "      <th>108</th>\n",
       "      <td>From: pallis@server.uwindsor.ca (PALLIS  DIMIT...</td>\n",
       "      <td>comp.graphics</td>\n",
       "    </tr>\n",
       "    <tr>\n",
       "      <th>109</th>\n",
       "      <td>From: lorne@sun.com (Lorne R. Johnson - Sun IC...</td>\n",
       "      <td>misc.forsale</td>\n",
       "    </tr>\n",
       "  </tbody>\n",
       "</table>\n",
       "</div>"
      ],
      "text/plain": [
       "                                               content                 target\n",
       "100  From: tchen@magnus.acs.ohio-state.edu (Tsung-K...           misc.forsale\n",
       "101  From: exuptr@exu.ericsson.se (Patrick Taylor, ...        sci.electronics\n",
       "102  From: gharriso@hpcc01.corp.hp.com (Graeme Harr...        rec.motorcycles\n",
       "103  From: horton@molbio.cbs.umn.edu (Robert Horton...  comp.sys.mac.hardware\n",
       "104  From: bc744@cleveland.Freenet.Edu (Mark Ira Ka...  talk.politics.mideast\n",
       "105  From: dtmedin@catbyte.b30.ingr.com (Dave Medin...        sci.electronics\n",
       "106  From: ravin@eecg.toronto.edu (Govindan Ravindr...        sci.electronics\n",
       "107  From: bell@hops.larc.nasa.gov (John Bell)\\nSub...        sci.electronics\n",
       "108  From: pallis@server.uwindsor.ca (PALLIS  DIMIT...          comp.graphics\n",
       "109  From: lorne@sun.com (Lorne R. Johnson - Sun IC...           misc.forsale"
      ]
     },
     "execution_count": 11,
     "metadata": {},
     "output_type": "execute_result"
    }
   ],
   "source": [
    "# range\n",
    "df[100:110]"
   ]
  },
  {
   "cell_type": "code",
   "execution_count": 12,
   "metadata": {},
   "outputs": [
    {
     "data": {
      "text/plain": [
       "rec.sport.hockey            600\n",
       "soc.religion.christian      599\n",
       "rec.motorcycles             598\n",
       "rec.sport.baseball          597\n",
       "sci.crypt                   595\n",
       "sci.med                     594\n",
       "rec.autos                   594\n",
       "comp.windows.x              593\n",
       "sci.space                   593\n",
       "sci.electronics             591\n",
       "comp.os.ms-windows.misc     591\n",
       "comp.sys.ibm.pc.hardware    590\n",
       "misc.forsale                585\n",
       "comp.graphics               584\n",
       "comp.sys.mac.hardware       578\n",
       "talk.politics.mideast       564\n",
       "talk.politics.guns          546\n",
       "alt.atheism                 480\n",
       "talk.politics.misc          465\n",
       "talk.religion.misc          377\n",
       "Name: target, dtype: int64"
      ]
     },
     "execution_count": 12,
     "metadata": {},
     "output_type": "execute_result"
    }
   ],
   "source": [
    "# number of classes and their counts\n",
    "df.target.value_counts()"
   ]
  },
  {
   "cell_type": "code",
   "execution_count": 13,
   "metadata": {},
   "outputs": [
    {
     "data": {
      "text/plain": [
       "<matplotlib.axes._subplots.AxesSubplot at 0x2baf836fd30>"
      ]
     },
     "execution_count": 13,
     "metadata": {},
     "output_type": "execute_result"
    },
    {
     "data": {
      "image/png": "[encoded data removed]",
      "text/plain": [
       "<Figure size 432x288 with 1 Axes>"
      ]
     },
     "metadata": {},
     "output_type": "display_data"
    }
   ],
   "source": [
    "df.content.str.len().hist()"
   ]
  },
  {
   "cell_type": "code",
   "execution_count": 14,
   "metadata": {},
   "outputs": [],
   "source": [
    "# shuffle\n",
    "df = df.sample(frac=1)"
   ]
  },
  {
   "cell_type": "markdown",
   "metadata": {},
   "source": [
    "# Vectorize all"
   ]
  },
  {
   "cell_type": "code",
   "execution_count": 15,
   "metadata": {},
   "outputs": [],
   "source": [
    "vect = TfidfVectorizer(min_df=5, max_df=0.8, ngram_range=(1, 2))"
   ]
  },
  {
   "cell_type": "code",
   "execution_count": 16,
   "metadata": {},
   "outputs": [],
   "source": [
    "r = vect.fit_transform(df.content)"
   ]
  },
  {
   "cell_type": "code",
   "execution_count": 18,
   "metadata": {},
   "outputs": [
    {
     "data": {
      "text/plain": [
       "(11314, 109477)"
      ]
     },
     "execution_count": 18,
     "metadata": {},
     "output_type": "execute_result"
    }
   ],
   "source": [
    "r.shape"
   ]
  },
  {
   "cell_type": "code",
   "execution_count": 19,
   "metadata": {},
   "outputs": [
    {
     "data": {
      "text/plain": [
       "{'ac': 5212,\n",
       " 'dal': 26454,\n",
       " 'ca': 19155,\n",
       " 'my': 60900,\n",
       " 'predictions': 73116,\n",
       " 'classic': 22182,\n",
       " 'playoff': 72044,\n",
       " 'year': 108147,\n",
       " 'dalhousie': 26464,\n",
       " 'university': 100071,\n",
       " 'halifax': 41701,\n",
       " 'nova': 63928,\n",
       " 'scotia': 80531,\n",
       " 'canada': 19914,\n",
       " '73': 3832,\n",
       " 'here': 43615,\n",
       " 'is': 48855,\n",
       " 'yet': 108332,\n",
       " 'another': 10193,\n",
       " 'prediction': 73114,\n",
       " 'for': 36429,\n",
       " 'them': 93738,\n",
       " 'great': 40824,\n",
       " 'playoffs': 72052,\n",
       " 'you': 108438,\n",
       " 'may': 57588,\n",
       " 'laugh': 53607,\n",
       " 'at': 13078,\n",
       " 'your': 108928,\n",
       " 'convenience': 24726,\n",
       " 'adams': 5720,\n",
       " 'division': 29204,\n",
       " 'hate': 42346,\n",
       " 'ne': 61718,\n",
       " 'name': 61403,\n",
       " 'bos': 17427,\n",
       " 'vs': 102418,\n",
       " 'buf': 18113,\n",
       " 'are': 11222,\n",
       " 'hot': 44974,\n",
       " 'lately': 53556,\n",
       " 'mon': 59653,\n",
       " 'que': 74973,\n",
       " 'this': 94924,\n",
       " 'will': 105471,\n",
       " 'be': 14650,\n",
       " 'series': 81542,\n",
       " 'watch': 103312,\n",
       " 'first': 35838,\n",
       " 'round': 79096,\n",
       " 'bit': 16762,\n",
       " 'biased': 16455,\n",
       " 'but': 18396,\n",
       " 'feel': 35181,\n",
       " 'canadiens': 19944,\n",
       " 'up': 100381,\n",
       " 'start': 85341,\n",
       " 'playing': 72031,\n",
       " 'they': 94401,\n",
       " 'played': 71970,\n",
       " 'two': 99223,\n",
       " 'months': 59789,\n",
       " 'ago': 6369,\n",
       " 'bench': 16117,\n",
       " 'savard': 80027,\n",
       " 'patrick': 70449,\n",
       " 'pit': 71662,\n",
       " 'njd': 62716,\n",
       " 'it': 50129,\n",
       " 'wont': 106781,\n",
       " 'complete': 23712,\n",
       " 'cake': 19370,\n",
       " 'walk': 102586,\n",
       " 'there': 94086,\n",
       " 'few': 35326,\n",
       " 'batter': 14538,\n",
       " 'was': 102819,\n",
       " 'nyi': 64339,\n",
       " 'not': 63255,\n",
       " 'an': 7869,\n",
       " 'exciting': 33871,\n",
       " 'imo': 46191,\n",
       " 'pitt': 71683,\n",
       " 'washington': 103261,\n",
       " 'tired': 96180,\n",
       " 'after': 6143,\n",
       " 'norris': 63198,\n",
       " 'chi': 21416,\n",
       " 'stl': 85906,\n",
       " 'get': 39362,\n",
       " 'lucky': 56083,\n",
       " 'game': 38854,\n",
       " 'tor': 98193,\n",
       " 'det': 27989,\n",
       " 'like': 54645,\n",
       " 'intense': 48301,\n",
       " 'potvin': 72891,\n",
       " 'settling': 81762,\n",
       " 'nicely': 62583,\n",
       " 'by': 18747,\n",
       " 'point': 72279,\n",
       " 'smythe': 83366,\n",
       " 'van': 101419,\n",
       " 'win': 105765,\n",
       " 'teemu': 88303,\n",
       " 'vancouver': 101427,\n",
       " 'better': 16293,\n",
       " 'as': 12374,\n",
       " 'team': 88114,\n",
       " 'cal': 19371,\n",
       " 'lak': 53284,\n",
       " 'gretzky': 40966,\n",
       " 'calgary': 19402,\n",
       " 'has': 42110,\n",
       " 'been': 15530,\n",
       " 'on': 66689,\n",
       " 'fire': 35785,\n",
       " 'sorry': 84318,\n",
       " 'pun': 74629,\n",
       " 'um': 99668,\n",
       " 'no': 62759,\n",
       " 'am': 7502,\n",
       " 'proven': 74372,\n",
       " 'lie': 54520,\n",
       " 'down': 30095,\n",
       " 'beat': 15368,\n",
       " 'wales': 102581,\n",
       " 'conference': 24102,\n",
       " 'finals': 35640,\n",
       " 'pittsburgh': 71695,\n",
       " 'montreal': 59807,\n",
       " 'imho': 46143,\n",
       " 'only': 67403,\n",
       " 'that': 88960,\n",
       " 'chance': 21082,\n",
       " 'against': 6264,\n",
       " 'campbell': 19605,\n",
       " 'toronto': 98202,\n",
       " 'mvp': 60883,\n",
       " 'stanley': 85311,\n",
       " 'cup': 26176,\n",
       " 'maple': 57136,\n",
       " 'leafs': 53860,\n",
       " 'final': 35621,\n",
       " 'matchup': 57438,\n",
       " 'also': 7221,\n",
       " 'dream': 30259,\n",
       " 'come': 23233,\n",
       " 'true': 98791,\n",
       " 'wins': 105989,\n",
       " '7th': 3979,\n",
       " 'double': 30029,\n",
       " 'overtime': 69642,\n",
       " 'roy': 79146,\n",
       " 'spectacular': 84720,\n",
       " 'throughout': 95782,\n",
       " 'share': 81970,\n",
       " 'if': 45758,\n",
       " 'possible': 72686,\n",
       " 'vincent': 102120,\n",
       " 'nets': 62062,\n",
       " 'winner': 105967,\n",
       " 'brilliant': 17867,\n",
       " 'pass': 70306,\n",
       " 'brian': 17820,\n",
       " 'bellows': 16074,\n",
       " 'star': 85315,\n",
       " 'denis': 27634,\n",
       " 'watched': 103325,\n",
       " 'his': 44063,\n",
       " 'buddies': 18099,\n",
       " 'play': 71936,\n",
       " 'owners': 69736,\n",
       " 'box': 17584,\n",
       " 'nursing': 64276,\n",
       " 'splinter': 84910,\n",
       " 'thumb': 95826,\n",
       " 'which': 104767,\n",
       " 'left': 54073,\n",
       " 'him': 43945,\n",
       " 'disabled': 28741,\n",
       " 'list': 55144,\n",
       " 'since': 82799,\n",
       " 'awww': 13890,\n",
       " 'yee': 108270,\n",
       " 'haa': 41471,\n",
       " 'wake': 102570,\n",
       " 'well': 103877,\n",
       " 'hope': 44603,\n",
       " 'can': 19620,\n",
       " 'stop': 85952,\n",
       " 'laughing': 53616,\n",
       " 'anytime': 10731,\n",
       " 'paul': 70480,\n",
       " 'die': 28431,\n",
       " 'hard': 41981,\n",
       " 'habs': 41479,\n",
       " 'fan': 34755,\n",
       " 'living': 55360,\n",
       " 'with': 106087,\n",
       " 'fans': 34778,\n",
       " 'ac dal': 5217,\n",
       " 'dal ca': 26455,\n",
       " 'ca subject': 19269,\n",
       " 'subject my': 86466,\n",
       " 'my predictions': 61171,\n",
       " 'predictions of': 73118,\n",
       " 'of classic': 64958,\n",
       " 'year organization': 108191,\n",
       " 'organization dalhousie': 68462,\n",
       " 'dalhousie university': 26465,\n",
       " 'university halifax': 100108,\n",
       " 'halifax nova': 41702,\n",
       " 'nova scotia': 63931,\n",
       " 'scotia canada': 80532,\n",
       " 'canada lines': 19925,\n",
       " 'lines 73': 54995,\n",
       " 'here is': 43649,\n",
       " 'is yet': 49842,\n",
       " 'yet another': 108335,\n",
       " 'for them': 37015,\n",
       " 'you may': 108675,\n",
       " 'laugh at': 53609,\n",
       " 'at your': 13285,\n",
       " 'your convenience': 108996,\n",
       " 'adams division': 5723,\n",
       " 'hate the': 42350,\n",
       " 'bos vs': 17429,\n",
       " 'vs buf': 102422,\n",
       " 'buf bos': 18114,\n",
       " 'bos in': 17428,\n",
       " 'in the': 47175,\n",
       " 'the are': 89966,\n",
       " 'mon in': 59658,\n",
       " 'in this': 47186,\n",
       " 'this will': 95445,\n",
       " 'will be': 105497,\n",
       " 'be the': 15257,\n",
       " 'the series': 92795,\n",
       " 'series to': 81554,\n",
       " 'to watch': 97793,\n",
       " 'the first': 91044,\n",
       " 'first round': 35910,\n",
       " 'vs mon': 102433,\n",
       " 'mon mon': 59659,\n",
       " 'this may': 95189,\n",
       " 'may be': 57613,\n",
       " 'be bit': 14729,\n",
       " 'bit biased': 16767,\n",
       " 'biased but': 16457,\n",
       " 'but feel': 18462,\n",
       " 'feel the': 35202,\n",
       " 'the canadiens': 90281,\n",
       " 'up and': 100390,\n",
       " 'and start': 9729,\n",
       " 'they played': 94558,\n",
       " 'two months': 99277,\n",
       " 'months ago': 59791,\n",
       " 'patrick division': 70452,\n",
       " 'vs njd': 102437,\n",
       " 'in it': 46814,\n",
       " 'wont be': 106782,\n",
       " 'be complete': 14773,\n",
       " 'there be': 94107,\n",
       " 'be few': 14885,\n",
       " 'the cake': 90266,\n",
       " 'vs nyi': 102439,\n",
       " 'was in': 102996,\n",
       " 'will not': 105616,\n",
       " 'not be': 63310,\n",
       " 'be an': 14682,\n",
       " 'pitt vs': 71687,\n",
       " 'in washington': 47253,\n",
       " 'washington will': 103280,\n",
       " 'after the': 6188,\n",
       " 'norris division': 63200,\n",
       " 'chi vs': 21420,\n",
       " 'vs stl': 102442,\n",
       " 'stl chi': 85907,\n",
       " 'chi in': 21418,\n",
       " 'will get': 105562,\n",
       " 'get lucky': 39427,\n",
       " 'game in': 38869,\n",
       " 'vs det': 102424,\n",
       " 'det tor': 27991,\n",
       " 'this like': 95170,\n",
       " 'be another': 14686,\n",
       " 'vs tor': 102444,\n",
       " 'by this': 19022,\n",
       " 'this point': 95270,\n",
       " 'smythe division': 83368,\n",
       " 'van vs': 101424,\n",
       " 'vs win': 102446,\n",
       " 'win van': 105791,\n",
       " 'van in': 101423,\n",
       " 'is great': 49224,\n",
       " 'great but': 40832,\n",
       " 'better as': 16297,\n",
       " 'as team': 12678,\n",
       " 'cal vs': 19377,\n",
       " 'cal in': 19373,\n",
       " 'has been': 42135,\n",
       " 'been on': 15632,\n",
       " 'on fire': 66820,\n",
       " 'sorry for': 84325,\n",
       " 'for the': 37013,\n",
       " 'no am': 62764,\n",
       " 'am not': 7565,\n",
       " 'vs cal': 102423,\n",
       " 'be great': 14920,\n",
       " 'series but': 81545,\n",
       " 'has proven': 42248,\n",
       " 'they will': 94655,\n",
       " 'not lie': 63523,\n",
       " 'down and': 30100,\n",
       " 'and get': 8952,\n",
       " 'wales conference': 102583,\n",
       " 'conference finals': 24104,\n",
       " 'pittsburgh vs': 71709,\n",
       " 'vs montreal': 102434,\n",
       " 'montreal montreal': 59814,\n",
       " 'montreal in': 59812,\n",
       " 'in montreal': 46911,\n",
       " 'imho is': 46145,\n",
       " 'is the': 49727,\n",
       " 'the only': 92081,\n",
       " 'only team': 67531,\n",
       " 'team that': 88146,\n",
       " 'that has': 89237,\n",
       " 'has chance': 42145,\n",
       " 'campbell conference': 19606,\n",
       " 'vancouver vs': 101437,\n",
       " 'vs toronto': 102445,\n",
       " 'toronto toronto': 98217,\n",
       " 'toronto in': 98212,\n",
       " 'series mvp': 81548,\n",
       " 'stanley cup': 85312,\n",
       " 'cup finals': 26182,\n",
       " 'toronto maple': 98214,\n",
       " 'maple leafs': 57138,\n",
       " 'leafs vs': 53870,\n",
       " 'montreal canadiens': 59810,\n",
       " 'the classic': 90400,\n",
       " 'cup final': 26181,\n",
       " 'dream come': 30261,\n",
       " 'come true': 23264,\n",
       " 'wins the': 105992,\n",
       " 'the stanley': 92981,\n",
       " 'cup in': 26184,\n",
       " 'the 7th': 89799,\n",
       " '7th game': 3983,\n",
       " 'roy and': 79147,\n",
       " 'throughout the': 95784,\n",
       " 'series and': 81544,\n",
       " 'and share': 9658,\n",
       " 'if that': 45882,\n",
       " 'that is': 89291,\n",
       " 'is possible': 49488,\n",
       " 'game winner': 38893,\n",
       " 'pass by': 70309,\n",
       " 'by brian': 18788,\n",
       " 'brian bellows': 17821,\n",
       " 'denis savard': 27636,\n",
       " 'his buddies': 44091,\n",
       " 'from the': 38389,\n",
       " 'the owners': 92142,\n",
       " 'on his': 66855,\n",
       " 'which has': 104826,\n",
       " 'has left': 42204,\n",
       " 'left him': 54092,\n",
       " 'him on': 43985,\n",
       " 'on the': 67039,\n",
       " 'the disabled': 90736,\n",
       " 'disabled list': 28742,\n",
       " 'since the': 82840,\n",
       " 'first game': 35869,\n",
       " 'game of': 38877,\n",
       " 'of the': 66070,\n",
       " 'the playoffs': 92297,\n",
       " 'yee haa': 108271,\n",
       " 'wake up': 102573,\n",
       " 'well that': 103969,\n",
       " 'is my': 49396,\n",
       " 'hope and': 44605,\n",
       " 'they come': 94449,\n",
       " 'true and': 98794,\n",
       " 'and you': 9994,\n",
       " 'you can': 108512,\n",
       " 'can stop': 19870,\n",
       " 'die hard': 28438,\n",
       " 'habs fan': 41480,\n",
       " 'living with': 55372,\n",
       " 'leafs fans': 53865,\n",
       " 'jac2y': 50868,\n",
       " 'virginia': 102162,\n",
       " 'edu': 31177,\n",
       " 'jonathan': 51556,\n",
       " 'cook': 24810,\n",
       " 're': 75753,\n",
       " 'jazz': 51024,\n",
       " 'cd': 20744,\n",
       " 'sale': 79723,\n",
       " 'trade': 98368,\n",
       " 'sell': 81280,\n",
       " '10': 287,\n",
       " 'then': 93913,\n",
       " 'really': 76459,\n",
       " 'offer': 66347,\n",
       " 'more': 59890,\n",
       " 'than': 88755,\n",
       " 'thanks': 88907,\n",
       " 'jon': 51544,\n",
       " 'jac2y virginia': 50869,\n",
       " 'virginia edu': 102166,\n",
       " 'edu jonathan': 31472,\n",
       " 'jonathan cook': 51558,\n",
       " 'cook jac2y': 24813,\n",
       " 'subject re': 86488,\n",
       " 'sale trade': 79748,\n",
       " 'trade organization': 98376,\n",
       " 'organization university': 68740,\n",
       " 'university of': 100127,\n",
       " 'of virginia': 66171,\n",
       " 'virginia lines': 102170,\n",
       " 'sell it': 81287,\n",
       " 'it for': 50298,\n",
       " 'for 10': 36431,\n",
       " 'then can': 93933,\n",
       " 'can really': 19827,\n",
       " 'more than': 60032,\n",
       " 'than at': 88782,\n",
       " 'at this': 13264,\n",
       " 'thanks jon': 88928,\n",
       " 'org': 68303,\n",
       " 'gene': 39140,\n",
       " 'miller': 59039,\n",
       " 'radical': 75330,\n",
       " 'agnostic': 6365,\n",
       " '37': 2655,\n",
       " 'article': 12186,\n",
       " '1993apr6': 1527,\n",
       " 'cnsvax': 22538,\n",
       " 'uwec': 101268,\n",
       " 'nyeda': 64337,\n",
       " 'david': 26755,\n",
       " 'nye': 64334,\n",
       " 'wrote': 107769,\n",
       " 'reply': 77593,\n",
       " 'austin': 13611,\n",
       " 'ibm': 45541,\n",
       " 'com': 22843,\n",
       " 'means': 58113,\n",
       " 'possibly': 72720,\n",
       " 'think': 94789,\n",
       " 'prove': 74356,\n",
       " 'beyond': 16398,\n",
       " 'doubt': 30044,\n",
       " 'god': 40021,\n",
       " 'does': 29523,\n",
       " 'exist': 33945,\n",
       " 'anyone': 10618,\n",
       " 'one': 67133,\n",
       " 'all': 6759,\n",
       " 'tell': 88387,\n",
       " 'me': 57873,\n",
       " 'what': 104327,\n",
       " 'therefore': 94229,\n",
       " 'lacking': 53255,\n",
       " 'ability': 4853,\n",
       " 'absolute': 5150,\n",
       " 'proof': 74154,\n",
       " 'being': 15865,\n",
       " 'atheist': 13321,\n",
       " 'becomes': 15503,\n",
       " 'act': 5538,\n",
       " 'faith': 34648,\n",
       " 'itself': 50801,\n",
       " 'cannot': 19971,\n",
       " 'accept': 5266,\n",
       " 'nothing': 63846,\n",
       " 'blind': 16974,\n",
       " 'invisible': 48724,\n",
       " 'pink': 71627,\n",
       " 'flying': 36215,\n",
       " 'unicorns': 99976,\n",
       " 'need': 61793,\n",
       " 'say': 80084,\n",
       " 'harbor': 41980,\n",
       " 'beliefs': 15976,\n",
       " 'good': 40239,\n",
       " 'evidence': 33666,\n",
       " 'existing': 33991,\n",
       " 'or': 67821,\n",
       " 'some': 83862,\n",
       " 'folks': 36264,\n",
       " 'call': 19433,\n",
       " 'agnosticism': 6366,\n",
       " 'suffer': 86724,\n",
       " 'don': 29740,\n",
       " 'worry': 107121,\n",
       " 'happy': 41964,\n",
       " 'many': 57046,\n",
       " 'atheists': 13332,\n",
       " 'lack': 53250,\n",
       " 'belief': 15963,\n",
       " 'gods': 40131,\n",
       " 'secondary': 80897,\n",
       " 'consideration': 24345,\n",
       " 'do': 29279,\n",
       " 'we': 103524,\n",
       " 'reliable': 77287,\n",
       " 'way': 103395,\n",
       " 'knowing': 52936,\n",
       " 'known': 52970,\n",
       " 'valid': 101363,\n",
       " 'logical': 55601,\n",
       " 'arguments': 11901,\n",
       " 'existence': 33975,\n",
       " 'nor': 63151,\n",
       " 'any': 10369,\n",
       " 'empirical': 32314,\n",
       " 'most': 60129,\n",
       " 'philosophers': 71391,\n",
       " 'theologians': 94048,\n",
       " 'agree': 6413,\n",
       " 'idea': 45640,\n",
       " 'must': 60813,\n",
       " 'accepted': 5295,\n",
       " 'without': 106552,\n",
       " 'sound': 84359,\n",
       " 'basis': 14499,\n",
       " 'could': 25140,\n",
       " 'expand': 34028,\n",
       " 'definition': 27442,\n",
       " 'seems': 81135,\n",
       " 'monolithic': 59756,\n",
       " 'sure': 87113,\n",
       " 'intend': 48289,\n",
       " 'example': 33767,\n",
       " 'distinguish': 29110,\n",
       " 'between': 16356,\n",
       " 'plus': 72192,\n",
       " 'equals': 32886,\n",
       " 'apples': 10920,\n",
       " 'french': 37625,\n",
       " 'jerry': 51129,\n",
       " 'lewis': 54391,\n",
       " 'know': 52846,\n",
       " 'socrates': 83683,\n",
       " 'said': 79638,\n",
       " 'patently': 70414,\n",
       " 'absurd': 5183,\n",
       " 'whoever': 105248,\n",
       " 'wishes': 106077,\n",
       " 'become': 15486,\n",
       " 'philosopher': 71389,\n",
       " 'learn': 53905,\n",
       " 'frightened': 37700,\n",
       " 'absurdities': 5186,\n",
       " 'bertrand': 16196,\n",
       " 'russell': 79433,\n",
       " 'perhaps': 71016,\n",
       " 'issue': 50074,\n",
       " 'learning': 53930,\n",
       " 'merit': 58526,\n",
       " 'further': 38705,\n",
       " 'exploration': 34231,\n",
       " 'miller subject': 59042,\n",
       " 'not organization': 63587,\n",
       " 'org lines': 68339,\n",
       " 'lines 37': 54959,\n",
       " '37 in': 2660,\n",
       " 'in article': 46479,\n",
       " 'article 1993apr6': 12219,\n",
       " 'cnsvax uwec': 22539,\n",
       " 'uwec edu': 101269,\n",
       " 'nyeda cnsvax': 64338,\n",
       " 'edu david': 31329,\n",
       " 'david nye': 26788,\n",
       " 'reply to': 77599,\n",
       " 'austin ibm': 13616,\n",
       " 'ibm com': 45546,\n",
       " 'there is': 94143,\n",
       " 'is no': 49414,\n",
       " 'no means': 62893,\n",
       " 'means that': 58131,\n",
       " 'that can': 89053,\n",
       " 'can possibly': 19808,\n",
       " 'think of': 94836,\n",
       " 'of to': 66098,\n",
       " 'to prove': 97367,\n",
       " 'beyond doubt': 16400,\n",
       " 'doubt that': 30054,\n",
       " 'that god': 89219,\n",
       " 'god does': 40039,\n",
       " 'does not': 29553,\n",
       " 'not exist': 63415,\n",
       " 'exist but': 33950,\n",
       " 'but if': 18493,\n",
       " 'if anyone': 45766,\n",
       " 'anyone has': 10636,\n",
       " 'has one': 42230,\n",
       " 'one by': 67161,\n",
       " 'by all': 18758,\n",
       " 'all means': 6880,\n",
       " 'tell me': 88397,\n",
       " 'me what': 58036,\n",
       " 'what it': 104399,\n",
       " 'it is': 50369,\n",
       " 'is therefore': 49731,\n",
       " 'this ability': 94925,\n",
       " 'ability of': 4855,\n",
       " 'of absolute': 64728,\n",
       " 'being an': 15868,\n",
       " 'an atheist': 7985,\n",
       " 'becomes an': 15504,\n",
       " 'an act': 7888,\n",
       " 'act of': 5546,\n",
       " 'of faith': 65191,\n",
       " 'faith in': 34657,\n",
       " 'in and': 46458,\n",
       " 'and of': 9341,\n",
       " 'of itself': 65418,\n",
       " 'itself and': 50802,\n",
       " 'and this': 9814,\n",
       " 'this cannot': 94991,\n",
       " 'cannot accept': 19972,\n",
       " 'nothing on': 63868,\n",
       " 'on blind': 66737,\n",
       " 'blind faith': 16975,\n",
       " 'invisible pink': 48725,\n",
       " 'need say': 61828,\n",
       " 'say more': 80118,\n",
       " 'beliefs at': 15980,\n",
       " 'at all': 13116,\n",
       " 'all there': 6972,\n",
       " 'no good': 62847,\n",
       " 'good evidence': 40274,\n",
       " 'evidence for': 33673,\n",
       " 'for god': 36672,\n",
       " 'existing or': 33992,\n",
       " 'or not': 68043,\n",
       " 'not some': 63687,\n",
       " 'some folks': 83923,\n",
       " 'call this': 19458,\n",
       " 'it does': 50257,\n",
       " 'not suffer': 63701,\n",
       " 'suffer from': 86727,\n",
       " 'faith at': 34653,\n",
       " 'all think': 6976,\n",
       " 'of it': 65415,\n",
       " 'it as': 50167,\n",
       " 'as don': 12443,\n",
       " 'don worry': 29863,\n",
       " 'be happy': 14929,\n",
       " 'happy for': 41968,\n",
       " 'for many': 36786,\n",
       " 'many atheists': 57052,\n",
       " 'the lack': 91576,\n",
       " 'lack of': 53251,\n",
       " 'of belief': 64851,\n",
       " 'belief in': 15965,\n",
       " 'in gods': 46742,\n",
       " 'is secondary': 49603,\n",
       " 'to an': 96358,\n",
       " 'what do': 104359,\n",
       " 'do we': 29406,\n",
       " 'we accept': 103525,\n",
       " 'accept as': 5272,\n",
       " 'as reliable': 12626,\n",
       " 'way of': 103437,\n",
       " 'of knowing': 65453,\n",
       " 'there are': 94103,\n",
       " 'are no': 11553,\n",
       " 'no known': 62879,\n",
       " 'logical arguments': 55603,\n",
       " 'arguments for': 11908,\n",
       " 'the existence': 90925,\n",
       " 'existence of': 33982,\n",
       " 'nor is': 63164,\n",
       " 'is there': 49730,\n",
       " 'there any': 94097,\n",
       " 'evidence that': 33685,\n",
       " 'that they': 89618,\n",
       " 'they exist': 94477,\n",
       " 'agree that': 6422,\n",
       " 'that the': 89611,\n",
       " 'the idea': 91368,\n",
       " 'idea of': 45656,\n",
       " 'of god': 65274,\n",
       " 'god is': 40060,\n",
       " 'is one': 49442,\n",
       " 'one that': 67315,\n",
       " 'that must': 89400,\n",
       " 'must be': 60824,\n",
       " 'be accepted': 14660,\n",
       " 'on faith': 66814,\n",
       " 'faith is': 34658,\n",
       " 'is belief': 48960,\n",
       " 'belief without': 15974,\n",
       " 'or empirical': 67928,\n",
       " 'evidence it': 33679,\n",
       " 'is reliable': 49568,\n",
       " 'could you': 25250,\n",
       " 'expand on': 34030,\n",
       " 'on your': 67099,\n",
       " 'your definition': 109004,\n",
       " 'definition of': 27448,\n",
       " 'it seems': 50534,\n",
       " 'seems bit': 81137,\n",
       " 'here but': 43631,\n",
       " 'but not': 18542,\n",
       " 'not sure': 63709,\n",
       " 'sure that': 87142,\n",
       " 'that you': 89703,\n",
       " 'you intend': 108635,\n",
       " 'that don': 89139,\n",
       " 'don we': 29860,\n",
       " 'we need': 103628,\n",
       " 'need for': 61804,\n",
       " 'for example': 36637,\n",
       " 'example to': 33791,\n",
       " 'to distinguish': 96699,\n",
       " 'distinguish between': 29111,\n",
       " 'the french': 91116,\n",
       " 'knowing that': 52942,\n",
       " 'is an': 48912,\n",
       " 'and what': 9938,\n",
       " 'it means': 50417,\n",
       " 'means to': 58136,\n",
       " 'to say': 97512,\n",
       " 'say we': 80140,\n",
       " 'we know': 103609,\n",
       " 'know what': 52924,\n",
       " 'said this': 79687,\n",
       " 'this is': 95145,\n",
       " 'is patently': 49460,\n",
       " 'patently absurd': 70415,\n",
       " 'absurd but': 5185,\n",
       " 'but whoever': 18649,\n",
       " 'whoever wishes': 105250,\n",
       " 'wishes to': 106078,\n",
       " 'to become': 96440,\n",
       " 'become philosopher': 15499,\n",
       " 'philosopher must': 71390,\n",
       " 'must learn': 60840,\n",
       " 'learn not': 53914,\n",
       " 'not to': 63739,\n",
       " 'to be': 96436,\n",
       " 'be frightened': 14902,\n",
       " 'frightened by': 37701,\n",
       " 'by absurdities': 18752,\n",
       " 'absurdities bertrand': 5187,\n",
       " 'bertrand russell': 16197,\n",
       " 'like this': 54747,\n",
       " 'perhaps the': 71039,\n",
       " 'the issue': 91502,\n",
       " 'issue is': 50083,\n",
       " 'is learning': 49321,\n",
       " 'which if': 104830,\n",
       " 'if any': 45764,\n",
       " 'mcovingt': 57832,\n",
       " 'aisun3': 6560,\n",
       " 'ai': 6484,\n",
       " 'uga': 99518,\n",
       " 'michael': 58732,\n",
       " 'covington': 25502,\n",
       " 'when': 104548,\n",
       " 'people': 70754,\n",
       " 'married': 57299,\n",
       " 'eyes': 34399,\n",
       " 'programs': 74027,\n",
       " 'georgia': 39313,\n",
       " 'athens': 13357,\n",
       " '17': 1057,\n",
       " 'apr': 11074,\n",
       " '16': 955,\n",
       " '23': 1923,\n",
       " '15': 851,\n",
       " '27': 2167,\n",
       " '1993': 1420,\n",
       " 'geneva': 39235,\n",
       " 'rutgers': 79449,\n",
       " 'cs89mcd': 26012,\n",
       " 'brunel': 18012,\n",
       " 'uk': 99568,\n",
       " 'davis': 26826,\n",
       " 'writes': 107494,\n",
       " 'honoring': 44576,\n",
       " 'laws': 53731,\n",
       " 'state': 85426,\n",
       " 'how': 45055,\n",
       " 'perceive': 70946,\n",
       " 'us': 100624,\n",
       " 'culturally': 26145,\n",
       " 'insensitive': 48052,\n",
       " 'declare': 27264,\n",
       " 'yourself': 109254,\n",
       " 'going': 40163,\n",
       " 'through': 95739,\n",
       " 'civil': 22030,\n",
       " 'ceremony': 20929,\n",
       " 'would': 107176,\n",
       " 'go': 39899,\n",
       " 'couple': 25354,\n",
       " 'unwilling': 100361,\n",
       " 'have': 42370,\n",
       " 'their': 93506,\n",
       " 'commitment': 23429,\n",
       " 'publicly': 74562,\n",
       " 'witnessed': 106618,\n",
       " 'recorded': 76827,\n",
       " 'isn': 49928,\n",
       " 'associate': 12955,\n",
       " 'research': 77789,\n",
       " 'scientist': 80474,\n",
       " 'artificial': 12362,\n",
       " 'intelligence': 48276,\n",
       " 'phone': 71409,\n",
       " '706': 3778,\n",
       " '542': 3317,\n",
       " '0358': 159,\n",
       " '30602': 2414,\n",
       " '7415': 3861,\n",
       " 'amateur': 7628,\n",
       " 'radio': 75337,\n",
       " 'n4tmi': 61355,\n",
       " 'from mcovingt': 38169,\n",
       " 'mcovingt aisun3': 57834,\n",
       " 'aisun3 ai': 6561,\n",
       " 'ai uga': 6488,\n",
       " 'uga edu': 99519,\n",
       " 'edu michael': 31539,\n",
       " 'michael covington': 58743,\n",
       " 'covington subject': 25505,\n",
       " 're when': 76225,\n",
       " 'when are': 104555,\n",
       " 'are two': 11734,\n",
       " 'two people': 99294,\n",
       " 'people married': 70835,\n",
       " 'married in': 57301,\n",
       " 'in god': 46741,\n",
       " 'god eyes': 40044,\n",
       " 'eyes organization': 34406,\n",
       " 'organization ai': 68376,\n",
       " 'ai programs': 6487,\n",
       " 'programs university': 74051,\n",
       " 'of georgia': 65262,\n",
       " 'georgia athens': 39316,\n",
       " 'athens lines': 13360,\n",
       " 'lines 17': 54938,\n",
       " '17 in': 1088,\n",
       " 'article apr': 12261,\n",
       " 'apr 16': 11083,\n",
       " '16 23': 967,\n",
       " '23 15': 1927,\n",
       " '15 27': 867,\n",
       " '27 1993': 2169,\n",
       " 'geneva rutgers': 39236,\n",
       " 'rutgers edu': 79450,\n",
       " 'cs89mcd brunel': 26013,\n",
       " 'brunel ac': 18013,\n",
       " 'ac uk': 5228,\n",
       " 'uk michael': 99599,\n",
       " 'michael davis': 58744,\n",
       " 'davis writes': 26832,\n",
       " 'writes it': 107584,\n",
       " 'it has': 50333,\n",
       " 'has to': 42299,\n",
       " 'to do': 96702,\n",
       " 'do with': 29414,\n",
       " 'the laws': 91598,\n",
       " 'laws of': 53742,\n",
       " 'the state': 92988,\n",
       " 'state and': 85427,\n",
       " 'and also': 8438,\n",
       " 'also to': 7352,\n",
       " 'with how': 106270,\n",
       " 'how people': 45107,\n",
       " 'people will': 70910,\n",
       " 'us it': 100682,\n",
       " 'to declare': 96635,\n",
       " 'without going': 106575,\n",
       " 'going through': 40183,\n",
       " 'would go': 107248,\n",
       " 'go further': 39933,\n",
       " 'are unwilling': 11741,\n",
       " 'unwilling to': 100362,\n",
       " 'to have': 96932,\n",
       " 'have their': 42752,\n",
       " 'their commitment': 93534,\n",
       " 'the commitment': 90450,\n",
       " 'isn really': 49952,\n",
       " 'really there': 76542,\n",
       " 'covington associate': 25503,\n",
       " 'associate research': 12957,\n",
       " 'research scientist': 77823,\n",
       " 'scientist artificial': 80476,\n",
       " 'artificial intelligence': 12363,\n",
       " 'intelligence programs': 48280,\n",
       " 'programs mcovingt': 74041,\n",
       " 'mcovingt ai': 57833,\n",
       " 'edu the': 31696,\n",
       " 'the university': 93291,\n",
       " 'georgia phone': 39319,\n",
       " 'phone 706': 71429,\n",
       " '706 542': 3779,\n",
       " '542 0358': 3319,\n",
       " '0358 athens': 160,\n",
       " 'athens georgia': 13359,\n",
       " 'georgia 30602': 39315,\n",
       " '30602 7415': 2415,\n",
       " '7415 amateur': 3862,\n",
       " 'amateur radio': 7629,\n",
       " 'radio n4tmi': 75346,\n",
       " 'sera': 81518,\n",
       " 'zuma': 109464,\n",
       " 'uucp': 101194,\n",
       " 'serdar': 81526,\n",
       " 'argic': 11847,\n",
       " 'turkey': 99050,\n",
       " 'cyprus': 26382,\n",
       " 'bosnia': 17432,\n",
       " 'serbia': 81520,\n",
       " 'greece': 40885,\n",
       " 'armenia': 11962,\n",
       " 'azeris': 13943,\n",
       " 'distribution': 29136,\n",
       " 'world': 107035,\n",
       " '153': 928,\n",
       " '1993apr20': 1507,\n",
       " 'news': 62344,\n",
       " 'uiowa': 99557,\n",
       " 'mau': 57557,\n",
       " 'herky': 43708,\n",
       " 'cs': 25933,\n",
       " 'napoleon': 61486,\n",
       " 'called': 19469,\n",
       " '320': 2476,\n",
       " 'ad': 5700,\n",
       " 'until': 100316,\n",
       " 'about': 4886,\n",
       " '1920s': 1282,\n",
       " '1600': 1008,\n",
       " 'years': 108214,\n",
       " 'alive': 6750,\n",
       " 'today': 97871,\n",
       " 'who': 105028,\n",
       " 'were': 104030,\n",
       " 'born': 17412,\n",
       " 'city': 22005,\n",
       " 'doesn': 29582,\n",
       " 'make': 56680,\n",
       " 'sense': 81407,\n",
       " 'anyway': 10733,\n",
       " 'striking': 86146,\n",
       " 'racist': 75312,\n",
       " 'attitude': 13498,\n",
       " 'certain': 20934,\n",
       " 'greeks': 40904,\n",
       " 'still': 85813,\n",
       " 'exists': 33993,\n",
       " 'our': 69230,\n",
       " 'day': 26839,\n",
       " 'insist': 48077,\n",
       " 'even': 33368,\n",
       " '537': 3300,\n",
       " 'old': 66585,\n",
       " 'capital': 20049,\n",
       " 'ottoman': 69217,\n",
       " 'empire': 32311,\n",
       " 'should': 82285,\n",
       " 'its': 50722,\n",
       " 'rightful': 78541,\n",
       " 'istanbul': 50117,\n",
       " 'half': 41688,\n",
       " 'millennium': 59038,\n",
       " 'cons': 24287,\n",
       " 'whatever': 104512,\n",
       " 'everyone': 33608,\n",
       " 'knows': 52988,\n",
       " 'new': 62200,\n",
       " 'york': 108411,\n",
       " 'once': 67101,\n",
       " 'amsterdam': 7860,\n",
       " 'dutch': 30708,\n",
       " 'persist': 71141,\n",
       " 'calling': 19498,\n",
       " 'too': 98033,\n",
       " 'long': 55638,\n",
       " 'gone': 40209,\n",
       " 'replaced': 77561,\n",
       " 'china': 21510,\n",
       " 'traded': 98382,\n",
       " 'republic': 77698,\n",
       " 'now': 63940,\n",
       " 'santa': 79937,\n",
       " 'colonial': 22759,\n",
       " 'became': 15409,\n",
       " 'these': 94261,\n",
       " ...}"
      ]
     },
     "execution_count": 19,
     "metadata": {},
     "output_type": "execute_result"
    }
   ],
   "source": [
    "vect.vocabulary_"
   ]
  },
  {
   "cell_type": "markdown",
   "metadata": {},
   "source": [
    "# Train a simple classifier on the features"
   ]
  },
  {
   "cell_type": "code",
   "execution_count": 20,
   "metadata": {},
   "outputs": [],
   "source": [
    "from sklearn.naive_bayes import MultinomialNB"
   ]
  },
  {
   "cell_type": "code",
   "execution_count": 21,
   "metadata": {},
   "outputs": [],
   "source": [
    "clf = MultinomialNB()"
   ]
  },
  {
   "cell_type": "code",
   "execution_count": 22,
   "metadata": {},
   "outputs": [
    {
     "data": {
      "text/plain": [
       "MultinomialNB(alpha=1.0, class_prior=None, fit_prior=True)"
      ]
     },
     "execution_count": 22,
     "metadata": {},
     "output_type": "execute_result"
    }
   ],
   "source": [
    "clf"
   ]
  },
  {
   "cell_type": "code",
   "execution_count": 23,
   "metadata": {},
   "outputs": [
    {
     "data": {
      "text/plain": [
       "MultinomialNB(alpha=1.0, class_prior=None, fit_prior=True)"
      ]
     },
     "execution_count": 23,
     "metadata": {},
     "output_type": "execute_result"
    }
   ],
   "source": [
    "clf.fit(r, df.target)"
   ]
  },
  {
   "cell_type": "code",
   "execution_count": 24,
   "metadata": {},
   "outputs": [],
   "source": [
    "# we now have a trained (fitted) classifier\n",
    "# can we use it to predict?"
   ]
  },
  {
   "cell_type": "code",
   "execution_count": 32,
   "metadata": {},
   "outputs": [
    {
     "data": {
      "text/plain": [
       "'comp.sys.mac.hardware'"
      ]
     },
     "execution_count": 32,
     "metadata": {},
     "output_type": "execute_result"
    }
   ],
   "source": [
    "picked_sample = 1235\n",
    "expected_target = df.target.iloc[picked_sample]\n",
    "expected_target"
   ]
  },
  {
   "cell_type": "code",
   "execution_count": 34,
   "metadata": {},
   "outputs": [
    {
     "name": "stdout",
     "output_type": "stream",
     "text": [
      "From: b91926@fnclub.fnal.gov (David Sachs)\n",
      "Subject: Re: Apple Tape backup 40SC under System 7.x\n",
      "Organization: Fermi National Accelerator Laboratory, Batavia IL\n",
      "Lines: 15\n",
      "Distribution: usa\n",
      "NNTP-Posting-Host: fnclub.fnal.gov\n",
      "Keywords: backup, tape,\n",
      "\n",
      "In article <generous.734035090@nova>, generous@nova.sti.nasa.gov (Curtis Generous) writes:\n",
      "|> \n",
      "|> I need to get an Apple 40SC tape backup unit working under\n",
      "|> Sys 7.0.x, but do not have any drivers/software to access\n",
      "|> the device.  Does anyone know where I can fidn the tools\n",
      "|> to access this device?\n",
      "|> \n",
      "|> Appreciate any info/comments.\n",
      "|> \n",
      "|> --curtis\n",
      "|> -- \n",
      "|> Curtis C. Generous\tgenerous@sti.nasa.gov\t\t(703) 685-1140\n",
      "|> NASA STI, Code JTT, Washington, DC 20546\n",
      "\n",
      "Retrospect (Dantz) works nicely with this combination. You can buy it from the mail order vendors.\n",
      "\n"
     ]
    }
   ],
   "source": [
    "s=df.content.iloc[picked_sample]\n",
    "print(s)"
   ]
  },
  {
   "cell_type": "code",
   "execution_count": 35,
   "metadata": {},
   "outputs": [
    {
     "data": {
      "text/plain": [
       "<1x109477 sparse matrix of type '<class 'numpy.float64'>'\n",
       "\twith 128 stored elements in Compressed Sparse Row format>"
      ]
     },
     "execution_count": 35,
     "metadata": {},
     "output_type": "execute_result"
    }
   ],
   "source": [
    "feats = vect.transform([s])\n",
    "feats"
   ]
  },
  {
   "cell_type": "code",
   "execution_count": 40,
   "metadata": {},
   "outputs": [
    {
     "data": {
      "text/plain": [
       "array(['comp.sys.mac.hardware'], dtype='<U24')"
      ]
     },
     "execution_count": 40,
     "metadata": {},
     "output_type": "execute_result"
    }
   ],
   "source": [
    "predicted_target = clf.predict(feats)\n",
    "predicted_target"
   ]
  },
  {
   "cell_type": "code",
   "execution_count": 42,
   "metadata": {},
   "outputs": [
    {
     "data": {
      "text/plain": [
       "True"
      ]
     },
     "execution_count": 42,
     "metadata": {},
     "output_type": "execute_result"
    }
   ],
   "source": [
    "# is it correct?\n",
    "expected_target == predicted_target[0]"
   ]
  },
  {
   "cell_type": "markdown",
   "metadata": {},
   "source": [
    "# Evaluate the Classifier"
   ]
  },
  {
   "cell_type": "code",
   "execution_count": 43,
   "metadata": {},
   "outputs": [],
   "source": [
    "y_pred = clf.predict(vect.transform(df.content))"
   ]
  },
  {
   "cell_type": "code",
   "execution_count": 50,
   "metadata": {},
   "outputs": [
    {
     "data": {
      "text/plain": [
       "array(['rec.sport.hockey', 'misc.forsale', 'alt.atheism',\n",
       "       'soc.religion.christian', 'talk.politics.mideast',\n",
       "       'talk.politics.mideast', 'rec.sport.baseball', 'comp.graphics',\n",
       "       'comp.graphics', 'talk.politics.mideast'], dtype='<U24')"
      ]
     },
     "execution_count": 50,
     "metadata": {},
     "output_type": "execute_result"
    }
   ],
   "source": [
    "# lets look at the first 10 predictions\n",
    "y_pred[:10]"
   ]
  },
  {
   "cell_type": "code",
   "execution_count": 46,
   "metadata": {},
   "outputs": [
    {
     "data": {
      "text/plain": [
       "5713           rec.sport.hockey\n",
       "4636               misc.forsale\n",
       "4094                alt.atheism\n",
       "8762     soc.religion.christian\n",
       "7777      talk.politics.mideast\n",
       "11270     talk.politics.mideast\n",
       "2458         rec.sport.baseball\n",
       "3429              comp.graphics\n",
       "11104             comp.graphics\n",
       "9787      talk.politics.mideast\n",
       "Name: target, dtype: object"
      ]
     },
     "execution_count": 46,
     "metadata": {},
     "output_type": "execute_result"
    }
   ],
   "source": [
    "df.target[:10]"
   ]
  },
  {
   "cell_type": "code",
   "execution_count": 47,
   "metadata": {},
   "outputs": [
    {
     "data": {
      "text/plain": [
       "5713     True\n",
       "4636     True\n",
       "4094     True\n",
       "8762     True\n",
       "7777     True\n",
       "11270    True\n",
       "2458     True\n",
       "3429     True\n",
       "11104    True\n",
       "9787     True\n",
       "Name: target, dtype: bool"
      ]
     },
     "execution_count": 47,
     "metadata": {},
     "output_type": "execute_result"
    }
   ],
   "source": [
    "# just compare how many predictions were right\n",
    "r = (y_pred[:10] == df.target[:10])\n",
    "r"
   ]
  },
  {
   "cell_type": "code",
   "execution_count": 49,
   "metadata": {},
   "outputs": [
    {
     "data": {
      "text/plain": [
       "10"
      ]
     },
     "execution_count": 49,
     "metadata": {},
     "output_type": "execute_result"
    }
   ],
   "source": [
    "# add up all the true answers\n",
    "r.sum()"
   ]
  },
  {
   "cell_type": "code",
   "execution_count": 52,
   "metadata": {},
   "outputs": [
    {
     "data": {
      "text/plain": [
       "(11314,)"
      ]
     },
     "execution_count": 52,
     "metadata": {},
     "output_type": "execute_result"
    }
   ],
   "source": [
    "# add them all up\n",
    "r = (y_pred == df.target)\n",
    "r.shape"
   ]
  },
  {
   "cell_type": "code",
   "execution_count": 53,
   "metadata": {},
   "outputs": [
    {
     "data": {
      "text/plain": [
       "10692"
      ]
     },
     "execution_count": 53,
     "metadata": {},
     "output_type": "execute_result"
    }
   ],
   "source": [
    "r.sum()"
   ]
  },
  {
   "cell_type": "code",
   "execution_count": 54,
   "metadata": {},
   "outputs": [
    {
     "data": {
      "text/plain": [
       "0.945023864238996"
      ]
     },
     "execution_count": 54,
     "metadata": {},
     "output_type": "execute_result"
    }
   ],
   "source": [
    "r.sum() / r.shape[0]"
   ]
  },
  {
   "cell_type": "code",
   "execution_count": 56,
   "metadata": {},
   "outputs": [],
   "source": [
    "# so we go right 94% this easily ?!\n",
    "# NO, where did we do a huge mistake?"
   ]
  },
  {
   "cell_type": "markdown",
   "metadata": {},
   "source": [
    "# Train Test Split "
   ]
  },
  {
   "cell_type": "code",
   "execution_count": 57,
   "metadata": {},
   "outputs": [],
   "source": [
    "from sklearn.model_selection import train_test_split"
   ]
  },
  {
   "cell_type": "code",
   "execution_count": 59,
   "metadata": {},
   "outputs": [],
   "source": [
    "X=df['content'].astype(str).values\n",
    "y=df['target'].astype(str).values\n",
    "\n",
    "X_train, X_test, y_train, y_test = train_test_split(X, y, test_size=0.2, random_state=123)"
   ]
  },
  {
   "cell_type": "code",
   "execution_count": 60,
   "metadata": {},
   "outputs": [
    {
     "data": {
      "text/plain": [
       "(9051,)"
      ]
     },
     "execution_count": 60,
     "metadata": {},
     "output_type": "execute_result"
    }
   ],
   "source": [
    "X_train.shape"
   ]
  },
  {
   "cell_type": "code",
   "execution_count": 61,
   "metadata": {},
   "outputs": [
    {
     "data": {
      "text/plain": [
       "(2263,)"
      ]
     },
     "execution_count": 61,
     "metadata": {},
     "output_type": "execute_result"
    }
   ],
   "source": [
    "X_test.shape"
   ]
  },
  {
   "cell_type": "code",
   "execution_count": 62,
   "metadata": {},
   "outputs": [
    {
     "data": {
      "text/plain": [
       "(9051,)"
      ]
     },
     "execution_count": 62,
     "metadata": {},
     "output_type": "execute_result"
    }
   ],
   "source": [
    "y_train.shape"
   ]
  },
  {
   "cell_type": "code",
   "execution_count": 63,
   "metadata": {},
   "outputs": [
    {
     "data": {
      "text/plain": [
       "(2263,)"
      ]
     },
     "execution_count": 63,
     "metadata": {},
     "output_type": "execute_result"
    }
   ],
   "source": [
    "y_test.shape"
   ]
  },
  {
   "cell_type": "code",
   "execution_count": 64,
   "metadata": {},
   "outputs": [],
   "source": [
    "#\n",
    "vect = TfidfVectorizer(min_df=5, max_df=0.8, ngram_range=(1, 2))\n",
    "clf = MultinomialNB()"
   ]
  },
  {
   "cell_type": "code",
   "execution_count": 66,
   "metadata": {},
   "outputs": [
    {
     "data": {
      "text/plain": [
       "MultinomialNB(alpha=1.0, class_prior=None, fit_prior=True)"
      ]
     },
     "execution_count": 66,
     "metadata": {},
     "output_type": "execute_result"
    }
   ],
   "source": [
    "# train\n",
    "vect.fit(X_train)\n",
    "clf.fit(vect.transform(X_train), y_train)"
   ]
  },
  {
   "cell_type": "code",
   "execution_count": 67,
   "metadata": {},
   "outputs": [],
   "source": [
    "# predict\n",
    "y_pred = clf.predict(vect.transform(X_test))"
   ]
  },
  {
   "cell_type": "code",
   "execution_count": 70,
   "metadata": {},
   "outputs": [
    {
     "data": {
      "text/plain": [
       "1919"
      ]
     },
     "execution_count": 70,
     "metadata": {},
     "output_type": "execute_result"
    }
   ],
   "source": [
    "# compare y_test with y_pred\n",
    "r = (y_pred == y_test).sum()\n",
    "r"
   ]
  },
  {
   "cell_type": "code",
   "execution_count": 69,
   "metadata": {},
   "outputs": [
    {
     "data": {
      "text/plain": [
       "(2263,)"
      ]
     },
     "execution_count": 69,
     "metadata": {},
     "output_type": "execute_result"
    }
   ],
   "source": [
    "y_pred.shape"
   ]
  },
  {
   "cell_type": "code",
   "execution_count": 71,
   "metadata": {},
   "outputs": [
    {
     "data": {
      "text/plain": [
       "0.8479893946089262"
      ]
     },
     "execution_count": 71,
     "metadata": {},
     "output_type": "execute_result"
    }
   ],
   "source": [
    "# correct 84%\n",
    "r / y_pred.shape[0]"
   ]
  },
  {
   "cell_type": "markdown",
   "metadata": {},
   "source": [
    "# Summary"
   ]
  },
  {
   "cell_type": "markdown",
   "metadata": {},
   "source": [
    "pandas = offers data structures and operations for manipulating numerical tables and time series.\n",
    "\n",
    "pandas allows you to slice and dice the data\n",
    "\n",
    "all operations care made on arrays (not on individual items)\n",
    "\n",
    "working with classifiers is an easy 2 step process: 1) train 2) predict\n",
    "\n",
    "we want to evaluate how good our trained model is\n",
    "\n",
    "NEVER EVER test on the train data ! use train_test_split or similar"
   ]
  },
  {
   "cell_type": "code",
   "execution_count": null,
   "metadata": {},
   "outputs": [],
   "source": []
  }
 ],
 "metadata": {
  "kernelspec": {
   "display_name": "Python 3",
   "language": "python",
   "name": "python3"
  },
  "language_info": {
   "codemirror_mode": {
    "name": "ipython",
    "version": 3
   },
   "file_extension": ".py",
   "mimetype": "text/x-python",
   "name": "python",
   "nbconvert_exporter": "python",
   "pygments_lexer": "ipython3",
   "version": "3.6.5"
  }
 },
 "nbformat": 4,
 "nbformat_minor": 2
}
